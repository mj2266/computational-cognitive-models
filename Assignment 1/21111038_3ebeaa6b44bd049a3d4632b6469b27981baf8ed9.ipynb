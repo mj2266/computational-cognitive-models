{
 "cells": [
  {
   "cell_type": "markdown",
   "id": "32b03466",
   "metadata": {},
   "source": [
    "# Assignment 1"
   ]
  },
  {
   "cell_type": "markdown",
   "id": "d25c1dbb",
   "metadata": {},
   "source": [
    "MANJYOT SINGH NANRA <br>\n",
    "21111038 <br>\n",
    "manjyots21@iitk.ac.in"
   ]
  },
  {
   "cell_type": "code",
   "execution_count": 1,
   "id": "normal-princess",
   "metadata": {},
   "outputs": [],
   "source": [
    "# Importing required libraries\n",
    "import numpy as np\n",
    "import pandas as pd\n",
    "import random as rnd\n",
    "import math\n",
    "import matplotlib.pyplot as plt\n",
    "from sklearn.metrics import accuracy_score, f1_score\n",
    "\n",
    "plt.style.use('fivethirtyeight')\n",
    "from copy import deepcopy"
   ]
  },
  {
   "cell_type": "code",
   "execution_count": 2,
   "id": "wooden-stamp",
   "metadata": {},
   "outputs": [],
   "source": [
    "# from brian2 import *"
   ]
  },
  {
   "cell_type": "markdown",
   "id": "compound-newman",
   "metadata": {},
   "source": [
    "## Integrate-and-fire neuron model"
   ]
  },
  {
   "cell_type": "markdown",
   "id": "turned-blocking",
   "metadata": {},
   "source": [
    "This is one of the simplest models of neuron behavior. It omits all the intricacies of what goes on electrochemically inside the neuron's body, and simply attempts to capture the basic 'accumulate till a threshold and then fire and let go of all the accumulation' aspect of a neuron's activity \n",
    "\n",
    "$$\\frac{dv}{dt} = \\frac{(v_0 - v)}{\\tau},$$\n",
    "\n",
    "where $v$ is the membrane voltage of the neuron, and $\\tau$ is a timescale factor."
   ]
  },
  {
   "cell_type": "code",
   "execution_count": 3,
   "id": "laden-sunglasses",
   "metadata": {},
   "outputs": [],
   "source": [
    "# v0 = 1\n",
    "# tau = 10*ms\n",
    "# eqs = '''\n",
    "# dv/dt = (v0-v)/tau : 1\n",
    "# '''"
   ]
  },
  {
   "cell_type": "code",
   "execution_count": 4,
   "id": "unexpected-space",
   "metadata": {},
   "outputs": [],
   "source": [
    "# G = NeuronGroup(1, eqs, threshold='v>0.8', reset='v = 0', method='exact')\n",
    "# M = StateMonitor(G, 'v', record=True)\n",
    "# spikemon = SpikeMonitor(G)"
   ]
  },
  {
   "cell_type": "code",
   "execution_count": 5,
   "id": "spread-march",
   "metadata": {},
   "outputs": [],
   "source": [
    "# run(100*ms)\n",
    "# plot(M.t/ms, M.v[0])\n",
    "# xlabel('Time (ms)')\n",
    "# ylabel('v')"
   ]
  },
  {
   "cell_type": "markdown",
   "id": "based-kelly",
   "metadata": {},
   "source": [
    "## Hopfield network model"
   ]
  },
  {
   "cell_type": "markdown",
   "id": "accessory-generic",
   "metadata": {},
   "source": [
    "In this simplified Hopfied model, each neuron can only take values +1 or -1. The network stores pixel patterns, and attempts to retrieve them given some cue in the form of a part of the original pattern used to set an initial state $S_i(t=0)$ for every neuron in the network. The network activation of all the neurons evolves as follows\n",
    "\n",
    "$$S_i(t+1) = sgn\\left(\\sum_j{w_{ij} S_j(t)}\\right), $$\n",
    "\n",
    "where the weight of every synaptic connection is calculated as,\n",
    "\n",
    "$$w_{ij} = \\frac{1}{N} \\sum_{\\mu}{p_i^\\mu p_j^\\mu}, $$\n",
    "\n",
    "where in turn, $N$ is the number of neurons, and $p_i^\\mu$ is the state of the $i^{th}$ neuron for encoding pattern $\\mu$."
   ]
  },
  {
   "cell_type": "markdown",
   "id": "false-earth",
   "metadata": {},
   "source": [
    "The code below is taken from this [link](https://neuronaldynamics-exercises.readthedocs.io/en/latest/exercises/hopfield-network.html). Follow the accompanying exercises to be better prepared for your assignment. Remember to install all needed libraries before trying to run it. "
   ]
  },
  {
   "cell_type": "code",
   "execution_count": 6,
   "id": "several-documentation",
   "metadata": {},
   "outputs": [
    {
     "data": {
      "image/png": "[encoded data removed]",
      "text/plain": [
       "<Figure size 432x288 with 5 Axes>"
      ]
     },
     "metadata": {
      "needs_background": "light"
     },
     "output_type": "display_data"
    },
    {
     "name": "stdout",
     "output_type": "stream",
     "text": [
      "\n"
     ]
    },
    {
     "data": {
      "image/png": "[encoded data removed]",
      "text/plain": [
       "<Figure size 432x288 with 8 Axes>"
      ]
     },
     "metadata": {
      "needs_background": "light"
     },
     "output_type": "display_data"
    }
   ],
   "source": [
    "%matplotlib inline\n",
    "from neurodynex3.hopfield_network import network, pattern_tools, plot_tools\n",
    "\n",
    "pattern_size = 4\n",
    "\n",
    "# create an instance of the class HopfieldNetwork\n",
    "hopfield_net = network.HopfieldNetwork(nr_neurons= pattern_size**2)\n",
    "# instantiate a pattern factory\n",
    "factory = pattern_tools.PatternFactory(pattern_size, pattern_size)\n",
    "# create a checkerboard pattern and add it to the pattern list\n",
    "checkerboard = factory.create_checkerboard()\n",
    "pattern_list = [checkerboard]\n",
    "\n",
    "# add random patterns to the list\n",
    "pattern_list.extend(factory.create_random_pattern_list(nr_patterns=4, on_probability=0.5))\n",
    "plot_tools.plot_pattern_list(pattern_list)\n",
    "# how similar are the random patterns and the checkerboard? Check the overlaps\n",
    "overlap_matrix = pattern_tools.compute_overlap_matrix(pattern_list)\n",
    "#plot_tools.plot_overlap_matrix(overlap_matrix)\n",
    "\n",
    "# let the hopfield network \"learn\" the patterns. Note: they are not stored\n",
    "# explicitly but only network weights are updated !\n",
    "hopfield_net.store_patterns(pattern_list)\n",
    "\n",
    "# create a noisy version of a pattern and use that to initialize the network\n",
    "noisy_init_state = pattern_tools.flip_n(checkerboard, nr_of_flips=3)\n",
    "hopfield_net.set_state_from_pattern(noisy_init_state)\n",
    "\n",
    "# from this initial state, let the network dynamics evolve.\n",
    "states = hopfield_net.run_with_monitoring(nr_steps=3)\n",
    "\n",
    "# each network state is a vector. reshape it to the same shape used to create the patterns.\n",
    "states_as_patterns = factory.reshape_patterns(states)\n",
    "# plot the states of the network\n",
    "plot_tools.plot_state_sequence_and_overlap(states_as_patterns, pattern_list, reference_idx=0, suptitle=\"Network dynamics\")"
   ]
  },
  {
   "cell_type": "markdown",
   "id": "upset-embassy",
   "metadata": {},
   "source": [
    "## Our own Hopfield network model"
   ]
  },
  {
   "cell_type": "markdown",
   "id": "spectacular-morocco",
   "metadata": {},
   "source": [
    "You will write your own code to build a Hopfield network. I am leaving sample expected results below as a guide. "
   ]
  },
  {
   "cell_type": "markdown",
   "id": "involved-batman",
   "metadata": {},
   "source": [
    "## Assignment 1"
   ]
  },
  {
   "cell_type": "markdown",
   "id": "c6513bdf",
   "metadata": {},
   "source": [
    "## Question 1\n",
    "Can you write you own Hopfield network model that works more or less like the one simulated above? (20 points)\n",
    "\n"
   ]
  },
  {
   "cell_type": "markdown",
   "id": "fc5c3147",
   "metadata": {},
   "source": [
    "Writing my own Hopfield Network model using the skeleton provided. After seeing the skeleton code, it becomes obvious that we need to complete few functions"
   ]
  },
  {
   "cell_type": "markdown",
   "id": "a86d60c6",
   "metadata": {},
   "source": [
    "#### Function 1: get_patterns(pattern_size, number_of_patterns):\n",
    "This function will generate pattern list whose values will contain -1 or 1 randomly. It will contain square arrays of size pattern_size*pattern_size and count will be \"number_of_patterns\" "
   ]
  },
  {
   "cell_type": "code",
   "execution_count": 7,
   "id": "0128b8fe",
   "metadata": {},
   "outputs": [],
   "source": [
    "def generate_random_pattern(pattern_size):\n",
    "    # generates a pattern matrix with random elements.\n",
    "    \n",
    "    matrix = []\n",
    "    for i in range(pattern_size):\n",
    "        row = []\n",
    "        for j in range(pattern_size):\n",
    "            # Appends a random choice of -1 or 1 to the row\n",
    "            row.append(rnd.choice([-1,1]))\n",
    "        \n",
    "        matrix.append(row)\n",
    "    return matrix\n",
    "\n",
    "def get_patterns(pattern_size, number_of_pattern):\n",
    "    # generates list of patterns\n",
    "\n",
    "    patterns = []\n",
    "    \n",
    "    for i in range(number_of_pattern):\n",
    "        patterns.append(generate_random_pattern(pattern_size))\n",
    "\n",
    "    return np.array(patterns)"
   ]
  },
  {
   "cell_type": "markdown",
   "id": "199e2824",
   "metadata": {},
   "source": [
    "#### Function 2: perturb_pattern(pattern, number_of_flips):\n",
    "This function is used to make flips at random position in a pattern. \n",
    "We perform perturb in pattern to distort informativeness of the cue. \n",
    "Then later we will check how well does the hopfield network behaves"
   ]
  },
  {
   "cell_type": "code",
   "execution_count": 8,
   "id": "bd8e8e63",
   "metadata": {},
   "outputs": [],
   "source": [
    "def perturb_pattern(pattern, number_of_flips):\n",
    "    # Perform flips in a given pattern\n",
    "\n",
    "    # Obtaining number of rows and columns for the pattern.\n",
    "    columns = len(pattern[0])\n",
    "    rows = len(pattern)\n",
    "\n",
    "    # using lookup set to store already flipped bits so that a bit isn't flipped more than once. \n",
    "    lookup_set = set()\n",
    "    i = 0\n",
    "    while i!=number_of_flips:\n",
    "        row_val = rnd.choice(range(rows))\n",
    "        col_val = rnd.choice(range(columns))\n",
    "\n",
    "        # checking if a bit has already been flipped. if yes skip.\n",
    "        if f\"{row_val}-{col_val}\" in lookup_set:\n",
    "            continue\n",
    "\n",
    "        else:\n",
    "            # flip the bit\n",
    "            if pattern[row_val][col_val] == -1:\n",
    "                pattern[row_val][col_val] = 1\n",
    "            else:\n",
    "                pattern[row_val][col_val] = -1\n",
    "            i += 1\n",
    "            lookup_set.add(f\"{row_val}-{col_val}\")\n",
    "    return pattern\n",
    "\n",
    "            \n"
   ]
  },
  {
   "cell_type": "markdown",
   "id": "1edc5118",
   "metadata": {},
   "source": [
    "#### Function 3: calculate_weights(pattern_list, pattern_size):\n",
    "Formula for calculating weight matrix: $$w_{ij} = \\frac{1}{N} \\sum_{\\mu}{p_i^\\mu p_j^\\mu}, $$\n",
    "We can see that for getting $w_{ij}$ we take summation over all pattern.\n",
    "\n",
    "This function will calculate the above matrix in iterative manner. <br>\n",
    "Since using for loops is slower, I have also made another function calculate_weights_vectorized to speed up the process"
   ]
  },
  {
   "cell_type": "code",
   "execution_count": 9,
   "id": "9a9c04da",
   "metadata": {},
   "outputs": [],
   "source": [
    "def update_weights(pattern, weights, pattern_size,weight_size):\n",
    "    # Helper Function for calculating the weights\n",
    "    # This function takes a single pattern and weights matrix\n",
    "    # It uses this single pattern to update weights.\n",
    "\n",
    "    for i in range(weight_size):\n",
    "        for j in range(weight_size):\n",
    "\n",
    "            if i == j:\n",
    "                # Diagonal elements are 0, so skip\n",
    "                continue\n",
    "\n",
    "            if i > j:\n",
    "                # Weights are symmetric\n",
    "                weights[i][j] = weights[j][i]\n",
    "            \n",
    "            else:\n",
    "                row_val_i = int(math.floor(i/pattern_size))\n",
    "                col_val_i = int(i%pattern_size)\n",
    "                row_val_j = int(math.floor(j/pattern_size))\n",
    "                col_val_j = int(j%pattern_size)\n",
    "                weights[i][j] += pattern[row_val_i][col_val_i] * pattern[row_val_j][col_val_j]\n",
    "    \n",
    "\n",
    "def calculate_weights(pattern_list, pattern_size):\n",
    "    # Naive Implementation of calculating weights \n",
    "    # This function will call update weights for calculating weights\n",
    "\n",
    "    weight_size = pattern_size**2\n",
    "    weights = [[ 0 for i in range(weight_size) ] for j in range(weight_size) ]\n",
    "    \n",
    "    for i in range(len(pattern_list)):\n",
    "        \n",
    "        # calling update weights function and passing it single pattern\n",
    "        update_weights(pattern_list[i], weights, pattern_size, weight_size)\n",
    "    \n",
    "    for i in range(weight_size):\n",
    "        # Dividing the weights by weight_size\n",
    "        for j in range(weight_size):\n",
    "            weights[i][j] /= weight_size\n",
    "\n",
    "    return weights\n",
    "\n",
    "def calculate_weights_vectorized(pattern_list, pattern_size):\n",
    "    # Simple vectorized implementation of calculating weights\n",
    "    # This function uses matrix multiplication to compute weight matrix\n",
    "    # using numpy library for matrix multiplication speeds up the process\n",
    "    \n",
    "    pattern_list = np.array(pattern_list)\n",
    "    weight_size = pattern_size**2\n",
    "    weights = np.zeros((weight_size, weight_size))\n",
    "    \n",
    "    # Reshaping list of pattern matrix to list of 1d pattern arrays \n",
    "    pattern_1d = pattern_list.reshape(len(pattern_list),-1)\n",
    "\n",
    "    # Matrix multiplication.\n",
    "    weights = np.matmul(pattern_1d.T, pattern_1d)\n",
    "\n",
    "    # diagonal elements are 0s, so filling it with 0.\n",
    "    np.fill_diagonal(weights,0)\n",
    "    return weights/weight_size"
   ]
  },
  {
   "cell_type": "markdown",
   "id": "888b4479",
   "metadata": {},
   "source": [
    "#### Function 4: network_evolution(init_state, weights):\n",
    "This function performs the following task:  \n",
    "$$S_i(t+1) = sgn\\left(\\sum_j{w_{ij} S_j(t)}\\right) $$\n",
    "\n",
    "Given a state_input and weights, we need to compute the next state using the formula. <br>\n",
    "This is done in two different functions, one is a naive implementation and one is optimized using vectorization properties.<br>\n",
    "For main code, I am using vectorized implementation."
   ]
  },
  {
   "cell_type": "code",
   "execution_count": 10,
   "id": "2d121d35",
   "metadata": {},
   "outputs": [],
   "source": [
    "def network_evolution(init_state, weights):\n",
    "    # Naive implementation of network_evolution\n",
    "\n",
    "    # Getting number of neurons and pattern size\n",
    "    no_of_neurons = len(weights)\n",
    "    pattern_size = len(init_state)\n",
    "    # Generating next_state list\n",
    "    next_state = [[ 0 for i in range(pattern_size) ] for j in range(pattern_size) ]\n",
    "\n",
    "    for i in range(no_of_neurons):\n",
    "        # Calculating for every neuron\n",
    "\n",
    "        row_val_i = int(math.floor(i/pattern_size))\n",
    "        col_val_i = int(i%pattern_size)\n",
    "        for j in range(no_of_neurons):\n",
    "            row_val = int(math.floor(j/pattern_size))\n",
    "            col_val = int(j%pattern_size)\n",
    "            next_state[row_val_i][col_val_i] += weights[i][j] * init_state[row_val][col_val]  \n",
    "\n",
    "    # Replacing numbers with -1 or 1 depending on whether they are positive or negative\n",
    "    for i in range(pattern_size):\n",
    "        for j in range(pattern_size):\n",
    "            if next_state[i][j] > 0:\n",
    "                next_state[i][j] = 1\n",
    "            else:\n",
    "                next_state[i][j] = -1\n",
    "    return np.array(next_state)\n",
    "\n",
    "def network_evolution_optimized(init_state, weights):\n",
    "    # Optimized implementation because naive implementation was slower\n",
    "    # Used np.multiply function to calculate the next state \n",
    "\n",
    "    pattern_size = len(init_state)\n",
    "\n",
    "    # multiplication of weights and state to get the next_state matrix \n",
    "    next_state = np.multiply(weights, init_state.flatten())\n",
    "\n",
    "    # Summation of the matrix to get final next_state\n",
    "    next_state = np.sum(next_state, axis=1)\n",
    "\n",
    "    # Converting 1d next_state array to proper matrix representation\n",
    "    next_state = next_state.reshape(pattern_size, pattern_size)\n",
    "\n",
    "    # Replacing numbers with -1 or 1 depending on whether they are positive or negative\n",
    "    next_state[next_state<=0]  = -1\n",
    "    next_state[next_state>0] = 1\n",
    "    \n",
    "    return np.array(next_state)\n",
    "    "
   ]
  },
  {
   "cell_type": "markdown",
   "id": "22d30bb6",
   "metadata": {},
   "source": [
    "Using the above functions to define function for hopfield network.<br>\n"
   ]
  },
  {
   "cell_type": "code",
   "execution_count": 11,
   "id": "sunrise-glucose",
   "metadata": {},
   "outputs": [],
   "source": [
    "def hopfield_network(number_of_perturbs=3, number_of_patterns=5, pattern_size=4,plot_output=False):\n",
    "    # main function of hopfield network\n",
    "\n",
    "    # Getting the pattern list\n",
    "    plist = get_patterns(pattern_size,number_of_patterns)\n",
    "\n",
    "    # Getting a copy of plist\n",
    "    cue = deepcopy(plist)\n",
    "\n",
    "    # Grabbing the first element of state and performing perturbs on it\n",
    "    S = perturb_pattern(cue[0],number_of_perturbs)\n",
    "\n",
    "    # Calculating weights, by using plist to train the model\n",
    "    wghts = calculate_weights_vectorized(plist, pattern_size)\n",
    "\n",
    "    # Preparing state_list this list will store all the states after network evolution \n",
    "    state_list =[S]\n",
    "    \n",
    "    for i in range(4):\n",
    "        # Performing network evolution and storing updated list\n",
    "        state_list.append(network_evolution_optimized(S,wghts))\n",
    "        \n",
    "        S = state_list[-1]\n",
    "\n",
    "    # Plotting the output if required\n",
    "    if plot_output:\n",
    "        plot_tools.plot_pattern_list(plist) # plotting the initial pattern list\n",
    "        plot_tools.plot_pattern(state_list[0]) # Plotting the perturbed pattern\n",
    "\n",
    "        # Plotting the evolution of state_list and its overlap\n",
    "        plot_tools.plot_state_sequence_and_overlap(state_list, plist, reference_idx=0, suptitle=\"Network dynamics\") \n",
    "\n",
    "    # Returning the overlap value of the final state with its original patttern\n",
    "    overlap_val = pattern_tools.compute_overlap(state_list[-1], plist[0])\n",
    "    \n",
    "    return overlap_val"
   ]
  },
  {
   "cell_type": "markdown",
   "id": "92ab6c9d",
   "metadata": {},
   "source": [
    "Now we will run the above function using following parameters\n",
    "- number of perturbs = 3\n",
    "- number of patterns = 5 \n",
    "- pattern size = 4"
   ]
  },
  {
   "cell_type": "code",
   "execution_count": 12,
   "id": "33cc9023",
   "metadata": {},
   "outputs": [
    {
     "data": {
      "image/png": "[encoded data removed]",
      "text/plain": [
       "<Figure size 432x288 with 6 Axes>"
      ]
     },
     "metadata": {
      "needs_background": "light"
     },
     "output_type": "display_data"
    },
    {
     "data": {
      "image/png": "[encoded data removed]",
      "text/plain": [
       "<Figure size 432x288 with 1 Axes>"
      ]
     },
     "metadata": {
      "needs_background": "light"
     },
     "output_type": "display_data"
    },
    {
     "name": "stdout",
     "output_type": "stream",
     "text": [
      "\n"
     ]
    },
    {
     "data": {
      "image/png": "[encoded data removed]",
      "text/plain": [
       "<Figure size 432x288 with 10 Axes>"
      ]
     },
     "metadata": {
      "needs_background": "light"
     },
     "output_type": "display_data"
    },
    {
     "data": {
      "text/plain": [
       "0.92"
      ]
     },
     "execution_count": 12,
     "metadata": {},
     "output_type": "execute_result"
    }
   ],
   "source": [
    "\n",
    "hopfield_network(number_of_perturbs=3,number_of_patterns=6,pattern_size=5,plot_output=True)\n",
    "#weights, S, state_list = hopfield_network(number_of_perturbs=3,number_of_patterns=5,pattern_size=4,plot_output=True, debug= True)"
   ]
  },
  {
   "cell_type": "markdown",
   "id": "aa126077",
   "metadata": {},
   "source": [
    "## Question 2\n",
    "Q2. Run the model with different parameters to figure out how the model's capacity to retrieve the correct pattern in response to a cue deteriorates as a function of \n",
    "(a) the informativeness of the cue\n",
    "(b) the number of other patterns stored in the network\n",
    "(c) the size of the network\n",
    "\n",
    "Present your answers with plots and/or math. (20 points)"
   ]
  },
  {
   "cell_type": "markdown",
   "id": "0d7e054b",
   "metadata": {},
   "source": [
    "INFORMATIVENESS OF CUE"
   ]
  },
  {
   "cell_type": "markdown",
   "id": "8479d22f",
   "metadata": {},
   "source": [
    "Informativeness of cue, meaning perturbing the pattern. \n",
    "We will see how is the model capacity detoriates by visualizing through graphs"
   ]
  },
  {
   "cell_type": "markdown",
   "id": "d20db225",
   "metadata": {},
   "source": [
    "Plotting over perturb range of 1 to 100 for different pattern sizes"
   ]
  },
  {
   "cell_type": "markdown",
   "id": "a50cbbec",
   "metadata": {},
   "source": [
    "Note that the \"m\" value we get is cosine similarity"
   ]
  },
  {
   "cell_type": "code",
   "execution_count": 13,
   "id": "5bb8614e",
   "metadata": {},
   "outputs": [],
   "source": [
    "perturbs = range(1,63)\n",
    "pattern_size1 = 8\n",
    "pattern_size2 = 9\n",
    "pattern_size3 = 10\n",
    "number_of_patterns = 10\n",
    "\n",
    "output1 = []\n",
    "output2 = []\n",
    "output3 = []\n",
    "\n",
    "for perturn_no in perturbs:\n",
    "    output1.append(hopfield_network(perturn_no, number_of_patterns, pattern_size1))\n",
    "    output2.append(hopfield_network(perturn_no, number_of_patterns, pattern_size2))\n",
    "    output3.append(hopfield_network(perturn_no, number_of_patterns, pattern_size3))"
   ]
  },
  {
   "cell_type": "code",
   "execution_count": 14,
   "id": "69af5200",
   "metadata": {},
   "outputs": [
    {
     "data": {
      "text/plain": [
       "[]"
      ]
     },
     "execution_count": 14,
     "metadata": {},
     "output_type": "execute_result"
    },
    {
     "data": {
      "image/png": "[encoded data removed]",
      "text/plain": [
       "<Figure size 432x288 with 1 Axes>"
      ]
     },
     "metadata": {
      "needs_background": "light"
     },
     "output_type": "display_data"
    }
   ],
   "source": [
    "plt.plot(output1)\n",
    "plt.plot(output2)\n",
    "plt.plot(output3)\n",
    "plt.legend([\"8\",\"9\",\"10\"], title=\"Pattern Size\")\n",
    "plt.xlabel(\"Number of Flips\")\n",
    "plt.ylabel(\"Similarity measure(m value)\")\n",
    "plt.title(\"Similarity measure vs number of flips\")\n",
    "plt.plot()"
   ]
  },
  {
   "cell_type": "markdown",
   "id": "63cce654",
   "metadata": {},
   "source": [
    "Thus we can see that there is a downwards trend in the similarity measure on increasing number of flips. This means that if informativeness of cue deteriorate too much, Models capacity to retrieve the pattern worsens. This means Hopfield Network will behave poorly on decreasing informativeness of the cue and will get better if cues informativeness is not decreased. "
   ]
  },
  {
   "cell_type": "markdown",
   "id": "08a84b9b",
   "metadata": {},
   "source": [
    "NUMBER OF PATTERNS"
   ]
  },
  {
   "cell_type": "markdown",
   "id": "b14ed04a",
   "metadata": {},
   "source": [
    "Checking models capacity upon number of patterns"
   ]
  },
  {
   "cell_type": "code",
   "execution_count": 15,
   "id": "2f6ce320",
   "metadata": {},
   "outputs": [],
   "source": [
    "pattern_number_list = range(3,100)\n",
    "pattern_size1 = 8\n",
    "pattern_size2 = 9\n",
    "pattern_size3 = 10\n",
    "\n",
    "number_of_perturbs = 15\n",
    "output1 = []\n",
    "output2 = []\n",
    "output3 = []\n",
    "for number_of_patterns in pattern_number_list:\n",
    "    output1.append(hopfield_network(number_of_perturbs, number_of_patterns, pattern_size1))\n",
    "    output2.append(hopfield_network(number_of_perturbs, number_of_patterns, pattern_size2))\n",
    "    output3.append(hopfield_network(number_of_perturbs, number_of_patterns, pattern_size3))\n",
    "\n"
   ]
  },
  {
   "cell_type": "code",
   "execution_count": 16,
   "id": "c82d1a7f",
   "metadata": {},
   "outputs": [
    {
     "data": {
      "text/plain": [
       "[]"
      ]
     },
     "execution_count": 16,
     "metadata": {},
     "output_type": "execute_result"
    },
    {
     "data": {
      "image/png": "[encoded data removed]",
      "text/plain": [
       "<Figure size 432x288 with 1 Axes>"
      ]
     },
     "metadata": {
      "needs_background": "light"
     },
     "output_type": "display_data"
    }
   ],
   "source": [
    "plt.plot(output1)\n",
    "plt.plot(output2)\n",
    "plt.plot(output3)\n",
    "\n",
    "plt.legend([\"8\",\"9\",\"10\"], title=\"Pattern Size\")\n",
    "plt.xlabel(\"Number of patterns\")\n",
    "plt.ylabel(\"Similarity measure(m value)\")\n",
    "plt.title(\"Similarity measure vs Number of patterns\")\n",
    "plt.plot()\n"
   ]
  },
  {
   "cell_type": "markdown",
   "id": "b799c680",
   "metadata": {},
   "source": [
    "As we can see, theres not so obvious but a downwards trend when we increase number of patterns, where Networks quality to retain information is deteriorating on increasing number of patterns. A possible reason for this could be related to the amount of information hopfield pattern can store is finite and limited. So if we feed it more number of patters, quality will deteriorate. Probablity of error [REF](https://www.doc.ic.ac.uk/~ae/papers/Hopfield-networks-15.pdf)"
   ]
  },
  {
   "cell_type": "markdown",
   "id": "031f187b",
   "metadata": {},
   "source": [
    "PATTERN SIZE"
   ]
  },
  {
   "cell_type": "markdown",
   "id": "6518d58f",
   "metadata": {},
   "source": [
    "We will now run the code over various pattern sizes and see the performance of network. We will keep number of perturbs fixed to 15 and number of patters 20"
   ]
  },
  {
   "cell_type": "code",
   "execution_count": 17,
   "id": "93802c9f",
   "metadata": {},
   "outputs": [],
   "source": [
    "number_of_patterns = 20\n",
    "pattern_size_list = range(4,20)\n",
    "number_of_perturbs = 15\n",
    "output = []\n",
    "for pattern_size in pattern_size_list:\n",
    "    output.append(hopfield_network(number_of_perturbs, number_of_patterns, pattern_size))"
   ]
  },
  {
   "cell_type": "code",
   "execution_count": 18,
   "id": "52be5105",
   "metadata": {},
   "outputs": [
    {
     "data": {
      "text/plain": [
       "[<matplotlib.lines.Line2D at 0x25eae68c460>]"
      ]
     },
     "execution_count": 18,
     "metadata": {},
     "output_type": "execute_result"
    },
    {
     "data": {
      "image/png": "[encoded data removed]",
      "text/plain": [
       "<Figure size 432x288 with 1 Axes>"
      ]
     },
     "metadata": {
      "needs_background": "light"
     },
     "output_type": "display_data"
    }
   ],
   "source": [
    "plt.title(\"Pattern Size vs Similarity Measure\")\n",
    "plt.xlabel(\"Pattern Size\")\n",
    "plt.ylabel(\"Similarity measure(m value)\")\n",
    "plt.plot(output)"
   ]
  },
  {
   "cell_type": "markdown",
   "id": "628ae033",
   "metadata": {},
   "source": [
    "We can see that performance of model increasing by increasing the pattern size. This is because higher the pattern size, more will be the nodes in network thus size of network will increase enabling it to store more data. "
   ]
  },
  {
   "cell_type": "markdown",
   "id": "ad906875",
   "metadata": {},
   "source": [
    "## Question 3 \n",
    "Can you write a function that converts MNIST digit [data](https://gitlab.com/datapythonista/mnist) to the sort of patterns used in this simulation? (20 points)"
   ]
  },
  {
   "cell_type": "code",
   "execution_count": 19,
   "id": "secure-barbados",
   "metadata": {},
   "outputs": [],
   "source": [
    "# Importing the mnist dataset and required libraries\n",
    "import mnist\n",
    "from PIL import Image"
   ]
  },
  {
   "cell_type": "code",
   "execution_count": 20,
   "id": "a6f155a6",
   "metadata": {},
   "outputs": [],
   "source": [
    "# Loading the training set and test set images and labels\n",
    "training_images = mnist.train_images()\n",
    "training_label = mnist.train_labels()\n",
    "\n",
    "test_images = mnist.test_images()\n",
    "test_label = mnist.test_labels()"
   ]
  },
  {
   "cell_type": "code",
   "execution_count": 21,
   "id": "1320e252",
   "metadata": {},
   "outputs": [
    {
     "data": {
      "image/png": "[encoded data removed]",
      "text/plain": [
       "<PIL.Image.Image image mode=L size=100x100 at 0x25EAE34B580>"
      ]
     },
     "execution_count": 21,
     "metadata": {},
     "output_type": "execute_result"
    }
   ],
   "source": [
    "# Visualizing a image from dataset\n",
    "Image.fromarray(training_images[2]).resize((100,100))\n"
   ]
  },
  {
   "cell_type": "code",
   "execution_count": 22,
   "id": "05573b64",
   "metadata": {},
   "outputs": [
    {
     "name": "stdout",
     "output_type": "stream",
     "text": [
      "Training Data Dimensions: (60000, 28, 28)\n",
      "Test Data Dimensions: (10000, 28, 28)\n"
     ]
    }
   ],
   "source": [
    "print(\"Training Data Dimensions:\",training_images.shape)\n",
    "print(\"Test Data Dimensions:\",test_images.shape)"
   ]
  },
  {
   "cell_type": "markdown",
   "id": "a956e003",
   "metadata": {},
   "source": [
    "As we can see that training set contains 60000 images and test set contains 10000 images. Images are of dimension 28*28.<br>\n",
    "Also images are stored as pixel intensity ranging from 0 to 255. <br>\n",
    "We need to convert this data to our desired Hopfield friendly pattern. For this we will have a threshold of 127. <br>\n",
    "For pixel intensity less than 127, we will set it to -1 and pixel intensity greater than 127 will be set to 1.<br>\n",
    "Doing this will make our image dataset correspond to the hopfield dataset"
   ]
  },
  {
   "cell_type": "code",
   "execution_count": 23,
   "id": "63bf35ae",
   "metadata": {},
   "outputs": [],
   "source": [
    "def perform_thresholding(training_images, threshold=127, pattern_size = 28):\n",
    "    training_conv = np.zeros((len(training_images),pattern_size,pattern_size))\n",
    "    for i in range(len(training_images)):\n",
    "        threshold = 127\n",
    "        img_boolean = (training_images[i]>=threshold) # This will return array of true and false\n",
    "\n",
    "        # converting boolean to int\n",
    "        img_int = img_boolean.astype(int) # https://stackoverflow.com/questions/17506163/how-to-convert-a-boolean-array-to-an-int-array\n",
    "        img_int[img_int == 0] = -1 # Setting 0's to -1\n",
    "\n",
    "        training_conv[i,:,:] = img_int\n",
    "\n",
    "    return training_conv\n",
    "    "
   ]
  },
  {
   "cell_type": "code",
   "execution_count": 24,
   "id": "13c0bfb0",
   "metadata": {},
   "outputs": [],
   "source": [
    "# Converting both training set and test set to hopfield suitable patterns\n",
    "training_conv = perform_thresholding(training_images)\n",
    "test_conv = perform_thresholding(test_images)\n",
    "# weights = calculate_weights_vectorized(training_conv[:60000,:,:], 28)"
   ]
  },
  {
   "cell_type": "markdown",
   "id": "2a106988",
   "metadata": {},
   "source": [
    "Visualizing the converted number by plotting the pattern"
   ]
  },
  {
   "cell_type": "code",
   "execution_count": 25,
   "id": "6988ec13",
   "metadata": {},
   "outputs": [
    {
     "data": {
      "image/png": "[encoded data removed]",
      "text/plain": [
       "<Figure size 432x288 with 1 Axes>"
      ]
     },
     "metadata": {
      "needs_background": "light"
     },
     "output_type": "display_data"
    }
   ],
   "source": [
    "plot_tools.plot_pattern(training_conv[2])"
   ]
  },
  {
   "cell_type": "markdown",
   "id": "41c77321",
   "metadata": {},
   "source": [
    "Thus, MNIST dataset has been succesfully converted to the sort of patterns used in Hopfield network"
   ]
  },
  {
   "cell_type": "markdown",
   "id": "0f6a80ab",
   "metadata": {},
   "source": [
    "## Question 4\n",
    "Can you write an MNIST classifier using the Hopfield network?. Can you characterize its performance using F-score, and compare with [classical](https://github.com/ksopyla/svm_mnist_digit_classification) and [deep](https://github.com/hwalsuklee/tensorflow-mnist-cnn) supervised learning methods? Remember that you can always use multiple samples of the same digit even for the Hopfield network classifier. Summarize your sense of the merits and demerits of using a Hopfield network as a classifier (40 points) "
   ]
  },
  {
   "cell_type": "markdown",
   "id": "cb794f25",
   "metadata": {},
   "source": [
    "We have already converted MNIST data to desired patterns. Now next step is to train the weights using the training data "
   ]
  },
  {
   "cell_type": "code",
   "execution_count": 26,
   "id": "fdeeabdb",
   "metadata": {},
   "outputs": [],
   "source": [
    "weights = calculate_weights_vectorized(training_conv, 28)"
   ]
  },
  {
   "cell_type": "code",
   "execution_count": 27,
   "id": "d2f907d1",
   "metadata": {},
   "outputs": [
    {
     "data": {
      "text/plain": [
       "array([[ 0.        , 76.53061224, 76.53061224, ..., 76.53061224,\n",
       "        76.53061224, 76.53061224],\n",
       "       [76.53061224,  0.        , 76.53061224, ..., 76.53061224,\n",
       "        76.53061224, 76.53061224],\n",
       "       [76.53061224, 76.53061224,  0.        , ..., 76.53061224,\n",
       "        76.53061224, 76.53061224],\n",
       "       ...,\n",
       "       [76.53061224, 76.53061224, 76.53061224, ...,  0.        ,\n",
       "        76.53061224, 76.53061224],\n",
       "       [76.53061224, 76.53061224, 76.53061224, ..., 76.53061224,\n",
       "         0.        , 76.53061224],\n",
       "       [76.53061224, 76.53061224, 76.53061224, ..., 76.53061224,\n",
       "        76.53061224,  0.        ]])"
      ]
     },
     "execution_count": 27,
     "metadata": {},
     "output_type": "execute_result"
    }
   ],
   "source": [
    "# Visualizing weights\n",
    "weights"
   ]
  },
  {
   "cell_type": "code",
   "execution_count": 28,
   "id": "5a2c498a",
   "metadata": {},
   "outputs": [
    {
     "data": {
      "text/plain": [
       "(784, 784)"
      ]
     },
     "execution_count": 28,
     "metadata": {},
     "output_type": "execute_result"
    }
   ],
   "source": [
    "# Weight shape\n",
    "weights.shape"
   ]
  },
  {
   "cell_type": "code",
   "execution_count": 29,
   "id": "632bf4a7",
   "metadata": {},
   "outputs": [],
   "source": [
    "# For calculating the overlap, we will not do it with every training example.\n",
    "# Instead we will have one representative per image.\n",
    "idx= np.unique(training_label, return_index=True)[1]\n",
    "state_comparison_list = training_images[idx] \n",
    "state_comparison_label = training_label[idx]"
   ]
  },
  {
   "cell_type": "markdown",
   "id": "59c912a7",
   "metadata": {},
   "source": [
    "Now we have our training data, and weights trained, also we have a comparison list over which we will calculate overlap.<br>\n",
    "Now we perform network evolution on test set images.<br>\n"
   ]
  },
  {
   "cell_type": "code",
   "execution_count": 30,
   "id": "191c07f5",
   "metadata": {},
   "outputs": [],
   "source": [
    "def MNIST_network_evolution(state_comparison_list, state_comparison_label, test_conv, weights, number_of_evolutions=1,plot_final_state=False):\n",
    "    output = []\n",
    "    for test_image in test_conv:\n",
    "        S = test_image\n",
    "        state_list = [test_image]\n",
    "\n",
    "        for i in range(number_of_evolutions):\n",
    "\n",
    "            state_list.append(network_evolution_optimized(S,weights))\n",
    "            S = state_list[-1]\n",
    "        op = pattern_tools.compute_overlap_list(state_list[-1], state_comparison_list)\n",
    "        output.append(state_comparison_label[op.argmax()])\n",
    "        if plot_final_state:\n",
    "            plot_tools.plot_pattern(state_list[-1])\n",
    "    return output\n"
   ]
  },
  {
   "cell_type": "code",
   "execution_count": 31,
   "id": "6df6cac3",
   "metadata": {},
   "outputs": [],
   "source": [
    "output = MNIST_network_evolution(state_comparison_list, state_comparison_label, test_conv[:200,:,:], weights, 1,False)"
   ]
  },
  {
   "cell_type": "markdown",
   "id": "88080089",
   "metadata": {},
   "source": [
    "Finding out the accuracy score and F1 Score for this model."
   ]
  },
  {
   "cell_type": "code",
   "execution_count": 32,
   "id": "b53c2df6",
   "metadata": {},
   "outputs": [
    {
     "name": "stdout",
     "output_type": "stream",
     "text": [
      "Accuracy is  0.16\n",
      "F1 Score is  0.05668422161365072\n"
     ]
    }
   ],
   "source": [
    "print(\"Accuracy is \",accuracy_score(output, test_label[0:200]))\n",
    "print(\"F1 Score is \",f1_score(test_label[0:200], output,average=\"weighted\"))"
   ]
  },
  {
   "cell_type": "markdown",
   "id": "bf0866a9",
   "metadata": {},
   "source": [
    "We can see that our model is behaving poorly. Now we will analyse what is going wrong. "
   ]
  },
  {
   "cell_type": "markdown",
   "id": "e44e4446",
   "metadata": {},
   "source": [
    "Lets visualize how our trained weights and images look like"
   ]
  },
  {
   "cell_type": "code",
   "execution_count": 33,
   "id": "f72411c3",
   "metadata": {},
   "outputs": [
    {
     "name": "stdout",
     "output_type": "stream",
     "text": [
      "Total pixels in image =  784\n",
      "Total Positive Pixels =  81\n",
      "Total Negative Pixels =  703\n"
     ]
    }
   ],
   "source": [
    "dummy_image = training_conv[2]\n",
    "print(\"Total pixels in image = \", len(dummy_image.flatten()))\n",
    "print(\"Total Positive Pixels = \", np.sum(dummy_image > 0))\n",
    "print(\"Total Negative Pixels = \", np.sum(dummy_image < 0))"
   ]
  },
  {
   "cell_type": "code",
   "execution_count": 34,
   "id": "7f4d50fd",
   "metadata": {},
   "outputs": [
    {
     "name": "stdout",
     "output_type": "stream",
     "text": [
      "Total neurons in weights =  614656\n",
      "Total number of Positive weights =  38164\n",
      "Total number of Negative weights =  575702\n"
     ]
    }
   ],
   "source": [
    "weights_unique, weight_counts = np.unique(weights, return_counts=True)\n",
    "print(\"Total neurons in weights = \", np.sum(weight_counts))\n",
    "print(\"Total number of Positive weights = \", np.sum(weight_counts[weights_unique<0]))\n",
    "print(\"Total number of Negative weights = \", np.sum(weight_counts[weights_unique>0]))"
   ]
  },
  {
   "cell_type": "markdown",
   "id": "f473741c",
   "metadata": {},
   "source": [
    "Thus we can see that majority of the pixels in the images are negative, and since weight formula is $w_{ij} = \\frac{1}{N} \\sum_{\\mu}{p_i^\\mu p_j^\\mu} $, this causes most of the weights to be positive(-1*-1 = 1) and summation causes it to become big positive numbers. <br>\n",
    "And once the weights are positive, and most of the test input pixels will be -1, so (1 * -1 = -1) thus most pixels in the state evolution ends up being -1 and only where more of (+1) pixels are concentrated over large training example, we get +1. <br>\n",
    "This is causing a effect that weights are getting trained in such a way that no matter what input is given, after few stages of network evolution, any test example is getting converged at same state values. We will visualize this below  "
   ]
  },
  {
   "cell_type": "code",
   "execution_count": 35,
   "id": "bc24eda0",
   "metadata": {},
   "outputs": [
    {
     "data": {
      "image/png": "[encoded data removed]",
      "text/plain": [
       "<Figure size 432x288 with 1 Axes>"
      ]
     },
     "metadata": {
      "needs_background": "light"
     },
     "output_type": "display_data"
    },
    {
     "data": {
      "image/png": "[encoded data removed]",
      "text/plain": [
       "<Figure size 432x288 with 1 Axes>"
      ]
     },
     "metadata": {
      "needs_background": "light"
     },
     "output_type": "display_data"
    },
    {
     "data": {
      "image/png": "[encoded data removed]",
      "text/plain": [
       "<Figure size 432x288 with 1 Axes>"
      ]
     },
     "metadata": {
      "needs_background": "light"
     },
     "output_type": "display_data"
    },
    {
     "data": {
      "image/png": "[encoded data removed]",
      "text/plain": [
       "<Figure size 432x288 with 1 Axes>"
      ]
     },
     "metadata": {
      "needs_background": "light"
     },
     "output_type": "display_data"
    }
   ],
   "source": [
    "# Passing 4 different test image inputs and visualizing state output\n",
    "output = MNIST_network_evolution(state_comparison_list, state_comparison_label, test_conv[0:4], weights, 3, True)"
   ]
  },
  {
   "cell_type": "markdown",
   "id": "d211e2f5",
   "metadata": {},
   "source": [
    "As we can see that, we used 4 different test set inputs, and passed it through network evolution. <br>\n",
    "After evolution every different test is becoming to same state. <br>\n",
    "This can be because images are highly correleated. [REF](https://iopscience.iop.org/article/10.1088/1757-899X/862/5/052048/pdf) <br>\n",
    "I will be using techniques used in above research paper to improve upon the existing model's working"
   ]
  },
  {
   "cell_type": "markdown",
   "id": "29f7e3e1",
   "metadata": {},
   "source": [
    "Above research paper discusses that images are highly correleated, so they performed Deskewing and cropping operation as part of preprocessing. It also updated weight matrix by using Storkley method(wont be implementing this). <br>"
   ]
  },
  {
   "cell_type": "code",
   "execution_count": 36,
   "id": "95f367c5",
   "metadata": {},
   "outputs": [],
   "source": [
    "# SOURCE: https://stackoverflow.com/questions/43577665/deskew-mnist-images , https://fsix.github.io/mnist/Deskewing.html\n",
    "from scipy.ndimage import interpolation\n",
    "\n",
    "def moments(image):\n",
    "    c0,c1 = np.mgrid[:image.shape[0],:image.shape[1]] # A trick in numPy to create a mesh grid\n",
    "    totalImage = np.sum(image) #sum of pixels\n",
    "    m0 = np.sum(c0*image)/totalImage #mu_x\n",
    "    m1 = np.sum(c1*image)/totalImage #mu_y\n",
    "    m00 = np.sum((c0-m0)**2*image)/totalImage #var(x)\n",
    "    m11 = np.sum((c1-m1)**2*image)/totalImage #var(y)\n",
    "    m01 = np.sum((c0-m0)*(c1-m1)*image)/totalImage #covariance(x,y)\n",
    "    mu_vector = np.array([m0,m1]) # Notice that these are \\mu_x, \\mu_y respectively\n",
    "    covariance_matrix = np.array([[m00,m01],[m01,m11]]) # Do you see a similarity between the covariance matrix\n",
    "    return mu_vector, covariance_matrix\n",
    "\n",
    "def deskew(image):\n",
    "    c,v = moments(image)\n",
    "    alpha = v[0,1]/v[0,0]\n",
    "    affine = np.array([[1,0],[alpha,1]])\n",
    "    ocenter = np.array(image.shape)/2.0\n",
    "    offset = c-np.dot(affine,ocenter)\n",
    "    return interpolation.affine_transform(image,affine,offset=offset)\n"
   ]
  },
  {
   "cell_type": "markdown",
   "id": "cd18c46f",
   "metadata": {},
   "source": [
    "Will now update the preprocessing function to deskew and crop images. <br>\n",
    "Images are being cropped to be 14x14 pixels because it gives good results and eliminates redundant data(Optimal value discussed in research paper referenced below). Other values like thresholding for training set and test set used below are also the ones explored in research paper. \n"
   ]
  },
  {
   "cell_type": "code",
   "execution_count": 37,
   "id": "149b704f",
   "metadata": {},
   "outputs": [],
   "source": [
    "def preprocessing_image_deskew_crop(training_images, threshold=127, pattern_size = 28):\n",
    "\n",
    "    training_conv = np.zeros((len(training_images),14,14))\n",
    "    for i in range(len(training_images)):\n",
    "\n",
    "        temp_img = deskew(training_images[i])\n",
    "\n",
    "        temp_img=temp_img[7:21,7:21]\n",
    "\n",
    "        img_boolean = (temp_img>=threshold) # This will return array of true and false\n",
    "\n",
    "        # converting boolean to int\n",
    "        img_int = img_boolean.astype(int) # https://stackoverflow.com/questions/17506163/how-to-convert-a-boolean-array-to-an-int-array\n",
    "        img_int[img_int == 0] = -1 # Setting 0's to -1\n",
    "\n",
    "        training_conv[i,:,:] = img_int\n",
    "\n",
    "    return training_conv\n"
   ]
  },
  {
   "cell_type": "markdown",
   "id": "11064d44",
   "metadata": {},
   "source": [
    "Training all images is time intensive and Hopfield networks dont have that much storage capacity too. So for that, I will be training only few instance of digits instead of all"
   ]
  },
  {
   "cell_type": "code",
   "execution_count": 38,
   "id": "d9afb7eb",
   "metadata": {},
   "outputs": [],
   "source": [
    "def generate_small_training_list(training_images, training_label,instance_per_digit=2):\n",
    "    modified_training_images = []\n",
    "    modified_training_labels = []\n",
    "    for i in range(10):\n",
    "        idx = np.random.choice(np.argwhere(training_label==i).flatten(),size=instance_per_digit)\n",
    "        modified_training_images.extend(training_images[idx,:,:])\n",
    "        modified_training_labels.extend(training_label[idx])\n",
    "    return np.array(modified_training_images), np.array(modified_training_labels)"
   ]
  },
  {
   "cell_type": "code",
   "execution_count": 39,
   "id": "26a2f371",
   "metadata": {},
   "outputs": [],
   "source": [
    "# Getting only 7 inputs per digit for training\n",
    "small_training_images, small_training_labels = generate_small_training_list(training_images, training_label,7)"
   ]
  },
  {
   "cell_type": "code",
   "execution_count": 40,
   "id": "c1b65d72",
   "metadata": {},
   "outputs": [],
   "source": [
    "# Performing thresholding, deskewing, cropping on both training and test set\n",
    "# threshold value for training is set 86 and test is 38\n",
    "# these values were optimal and discussed in reserach paper\n",
    "small_training_conv = preprocessing_image_deskew_crop(small_training_images, threshold=86) \n",
    "test_conv = preprocessing_image_deskew_crop(test_images, threshold=38)\n"
   ]
  },
  {
   "cell_type": "code",
   "execution_count": 41,
   "id": "fbd606a9",
   "metadata": {},
   "outputs": [],
   "source": [
    "weights = calculate_weights_vectorized(small_training_conv, 14)"
   ]
  },
  {
   "cell_type": "code",
   "execution_count": 42,
   "id": "96793136",
   "metadata": {},
   "outputs": [],
   "source": [
    "output = MNIST_network_evolution(small_training_conv, small_training_labels, test_conv, weights, 1,False)"
   ]
  },
  {
   "cell_type": "markdown",
   "id": "bb2e03bc",
   "metadata": {},
   "source": [
    "Checking out the accuracy and F1 score"
   ]
  },
  {
   "cell_type": "code",
   "execution_count": 43,
   "id": "360560e1",
   "metadata": {},
   "outputs": [
    {
     "name": "stdout",
     "output_type": "stream",
     "text": [
      "Accuracy is  0.549\n",
      "F1 Score is  0.529436533288363\n"
     ]
    }
   ],
   "source": [
    "print(\"Accuracy is \",accuracy_score(test_label, output))\n",
    "print(\"F1 Score is \",f1_score(test_label, output,average=\"weighted\"))"
   ]
  },
  {
   "cell_type": "markdown",
   "id": "caffcb2b",
   "metadata": {},
   "source": [
    "Comparison:\n",
    "We can see that normally without cropping and deskewing process, our model was only outputing 1 label in output. <br>\n",
    "But after the deskewing and cropping, and using less training images, I was able to get better accuracy. <br>\n",
    "It took lots of hits and trials and parameter tuning and taking help of research paper to get good parameters to get a accuracy of around 50-60% and F1 score of 0.56.<br>\n",
    "Comparing to classical algorithm, this is very poor, since this required lots of preprocessing and lots of praying that certain parameters give good outcome, whereas classical algorithms are very efficient, [classical algo](https://github.com/ksopyla/svm_mnist_digit_classification). Here classical algorithms like random forest and SVM are getting 90% + accuracy.<br>\n",
    "Deep learning algorithms on other hand are getting accuracy of 99% +. <br>\n",
    "\n"
   ]
  },
  {
   "cell_type": "markdown",
   "id": "8692b82b",
   "metadata": {},
   "source": [
    "Merits: \n",
    "- Hopfield network is a very simple unsupervised learning algorithm, and was performing well in the patterns example when informativeness of cue wasnt bad and pattern size was high\n",
    "- Hopfield is easy to implement and can behave as a few shot learning algorithm given that data is suitable.\n",
    "- Vectorized implementation of Hopfield is very fast.\n",
    "\n",
    "Demerits:\n",
    "- Hopfield network has pretty limited capacity and cant be used to train lots of patterns.\n",
    "- Hopfield network is a very basic model and would work better with advancements and improvements as we saw that it performed poorly on MNIST dataset.\n",
    "- Hopfield network can get to local minima state instead of global minima [REF](https://www.skedsoft.com/books/neural-network-fuzzy-systems/limitations-to-using-the-hopfield-network)\n",
    "- If patterns are somewhat similar, model will behave poorly\n",
    "- Weights are symmetric making weights store only half the information at the space it uses.\n",
    "- Weights being symmetrical is not biologically plausible\n"
   ]
  },
  {
   "cell_type": "markdown",
   "id": "802c86e9",
   "metadata": {},
   "source": [
    "Acknowledgments and Reference:\n",
    "- [Research Paper](https://iopscience.iop.org/article/10.1088/1757-899X/862/5/052048) was helpful in the process for increasing accuracy of the code\n",
    "- My peers Sharanya Saha and Debdeep Paul Chaudhuri were helpful for discussing about the assignment problems and thinking how to make our models better.\n",
    "- [Reference slides](https://www.doc.ic.ac.uk/~ae/papers/Hopfield-networks-15.pdf)\n",
    "- [Demerits](https://www.skedsoft.com/books/neural-network-fuzzy-systems/limitations-to-using-the-hopfield-network)"
   ]
  },
  {
   "cell_type": "code",
   "execution_count": null,
   "id": "f2122fd0",
   "metadata": {},
   "outputs": [],
   "source": []
  }
 ],
 "metadata": {
  "kernelspec": {
   "display_name": "Python 3 (ipykernel)",
   "language": "python",
   "name": "python3"
  },
  "language_info": {
   "codemirror_mode": {
    "name": "ipython",
    "version": 3
   },
   "file_extension": ".py",
   "mimetype": "text/x-python",
   "name": "python",
   "nbconvert_exporter": "python",
   "pygments_lexer": "ipython3",
   "version": "3.8.8"
  }
 },
 "nbformat": 4,
 "nbformat_minor": 5
}
